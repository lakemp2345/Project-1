{
 "cells": [
  {
   "cell_type": "code",
   "execution_count": 1,
   "metadata": {},
   "outputs": [],
   "source": [
    "#This is a file to test the spotify api\r\n",
    "import matplotlib.pyplot as plt\r\n",
    "import pandas as pd\r\n",
    "import requests\r\n",
    "from config import CLIENT_ID, CLIENT_SECRET"
   ]
  },
  {
   "cell_type": "code",
   "execution_count": 2,
   "metadata": {},
   "outputs": [],
   "source": [
    "AUTH_URL = 'https://accounts.spotify.com/api/token'\n",
    "\n",
    "# POST\n",
    "auth_response = requests.post(AUTH_URL, {\n",
    "    'grant_type': 'client_credentials',\n",
    "    'client_id': CLIENT_ID,\n",
    "    'client_secret': CLIENT_SECRET,\n",
    "})\n",
    "\n",
    "# convert the response to JSON\n",
    "auth_response_data = auth_response.json()\n",
    "\n",
    "# save the access token\n",
    "access_token = auth_response_data['access_token']\n",
    "\n",
    "#set up header\n",
    "headers = {\n",
    "    'Authorization': 'Bearer {token}'.format(token=access_token)\n",
    "}"
   ]
  },
  {
   "cell_type": "code",
   "execution_count": 3,
   "metadata": {},
   "outputs": [
    {
     "data": {
      "text/plain": [
       "{'danceability': 0.515,\n",
       " 'energy': 0.833,\n",
       " 'key': 4,\n",
       " 'loudness': -9.409,\n",
       " 'mode': 1,\n",
       " 'speechiness': 0.0362,\n",
       " 'acousticness': 0.637,\n",
       " 'instrumentalness': 0.946,\n",
       " 'liveness': 0.302,\n",
       " 'valence': 0.965,\n",
       " 'tempo': 178.48,\n",
       " 'type': 'audio_features',\n",
       " 'id': '5s91S8hSrJXqYdhwHOEioV',\n",
       " 'uri': 'spotify:track:5s91S8hSrJXqYdhwHOEioV',\n",
       " 'track_href': 'https://api.spotify.com/v1/tracks/5s91S8hSrJXqYdhwHOEioV',\n",
       " 'analysis_url': 'https://api.spotify.com/v1/audio-analysis/5s91S8hSrJXqYdhwHOEioV',\n",
       " 'duration_ms': 276640,\n",
       " 'time_signature': 4}"
      ]
     },
     "execution_count": 3,
     "metadata": {},
     "output_type": "execute_result"
    }
   ],
   "source": [
    "#https://open.spotify.com/track/5s91S8hSrJXqYdhwHOEioV?si=3090e778acd74d26\r\n",
    "\r\n",
    "# base URL of all Spotify API endpoints\r\n",
    "BASE_URL = 'https://api.spotify.com/v1/'\r\n",
    "\r\n",
    "# Track ID from the URI\r\n",
    "track_id = '5s91S8hSrJXqYdhwHOEioV'\r\n",
    "\r\n",
    "# actual GET request with proper header\r\n",
    "response = requests.get(BASE_URL + 'audio-features/' + track_id, headers=headers).json()\r\n",
    "\r\n",
    "response"
   ]
  },
  {
   "cell_type": "code",
   "execution_count": 4,
   "metadata": {},
   "outputs": [],
   "source": [
    "file_path = \"Data/spotify_ids.csv\"\r\n",
    "spotify_ids = pd.read_csv(file_path)\r\n",
    "spotify_ids_df = pd.DataFrame(spotify_ids)\r\n",
    "\r\n",
    "# create new dataframe to store data\r\n",
    "\r\n",
    "\r\n",
    "spotify_data = {\"Artist\": [], \"Track\": [], \"Spotify_ID\": [], \"danceability\": [], \"energy\": [], \"acousticness\": [], \"instrumentalness\": [], \r\n",
    "                \"liveness\": [], \"valence\": [], \"tempo\": [], \"key\": [], \"loudness\": [], \"mode\": [], \"duration_ms\": [], \"time_signature\": []}\r\n"
   ]
  },
  {
   "cell_type": "code",
   "execution_count": 5,
   "metadata": {},
   "outputs": [
    {
     "name": "stdout",
     "output_type": "stream",
     "text": [
      "KeyError exception raised: 'danceability'\n",
      "KeyError exception raised: 'danceability'\n",
      "KeyError exception raised: 'danceability'\n",
      "KeyError exception raised: 'danceability'\n",
      "KeyError exception raised: 'danceability'\n",
      "KeyError exception raised: 'danceability'\n",
      "KeyError exception raised: 'danceability'\n",
      "KeyError exception raised: 'danceability'\n",
      "KeyError exception raised: 'danceability'\n",
      "KeyError exception raised: 'danceability'\n",
      "KeyError exception raised: 'danceability'\n",
      "KeyError exception raised: 'danceability'\n"
     ]
    }
   ],
   "source": [
    "BASE_URL = 'https://api.spotify.com/v1/'\r\n",
    "for index, row in spotify_ids_df.iterrows():\r\n",
    "    # Track ID from the URI\r\n",
    "    track_id = row[\"Track_ID\"]\r\n",
    "    # GET request with proper header\r\n",
    "    response = requests.get(BASE_URL + 'audio-features/' + track_id, headers=headers).json()\r\n",
    "    try:\r\n",
    "        #append dataframe with response\r\n",
    "        spotify_data[\"danceability\"].append(response[\"danceability\"])\r\n",
    "        spotify_data[\"energy\"].append(response[\"energy\"])\r\n",
    "        spotify_data[\"acousticness\"].append(response[\"acousticness\"])\r\n",
    "        spotify_data[\"instrumentalness\"].append(response[\"instrumentalness\"])\r\n",
    "        spotify_data[\"liveness\"].append(response[\"liveness\"])\r\n",
    "        spotify_data[\"valence\"].append(response[\"valence\"])\r\n",
    "        spotify_data[\"tempo\"].append(response[\"tempo\"])\r\n",
    "        spotify_data[\"key\"].append(response[\"key\"])\r\n",
    "        spotify_data[\"loudness\"].append(response[\"loudness\"])\r\n",
    "        spotify_data[\"mode\"].append(response[\"mode\"])\r\n",
    "        spotify_data[\"duration_ms\"].append(response[\"duration_ms\"])\r\n",
    "        spotify_data[\"time_signature\"].append(response[\"time_signature\"])\r\n",
    "        spotify_data[\"Artist\"].append(row[\"Artist\"])\r\n",
    "        spotify_data[\"Track\"].append(row[\"Track\"])\r\n",
    "        spotify_data[\"Spotify_ID\"].append(row[\"Track_ID\"])\r\n",
    "    except KeyError as e:\r\n",
    "        print(f\"KeyError exception raised: {e}\")\r\n",
    "        spotify_data[\"Artist\"].append(row[\"Artist\"])\r\n",
    "        spotify_data[\"Track\"].append(row[\"Track\"])\r\n",
    "        spotify_data[\"Spotify_ID\"].append(\"not found\")\r\n",
    "        spotify_data[\"danceability\"].append(\"not found\")\r\n",
    "        spotify_data[\"energy\"].append(\"not found\")\r\n",
    "        spotify_data[\"acousticness\"].append(\"not found\")\r\n",
    "        spotify_data[\"instrumentalness\"].append(\"not found\")\r\n",
    "        spotify_data[\"liveness\"].append(\"not found\")\r\n",
    "        spotify_data[\"valence\"].append(\"not found\")\r\n",
    "        spotify_data[\"tempo\"].append(\"not found\")\r\n",
    "        spotify_data[\"key\"].append(\"not found\")\r\n",
    "        spotify_data[\"loudness\"].append(\"not found\")\r\n",
    "        spotify_data[\"mode\"].append(\"not found\")\r\n",
    "        spotify_data[\"duration_ms\"].append(\"not found\")\r\n",
    "        spotify_data[\"time_signature\"].append(\"not found\")\r\n",
    "        pass\r\n",
    "\r\n",
    "\r\n"
   ]
  },
  {
   "cell_type": "code",
   "execution_count": 6,
   "metadata": {},
   "outputs": [
    {
     "data": {
      "text/plain": [
       "3030"
      ]
     },
     "execution_count": 6,
     "metadata": {},
     "output_type": "execute_result"
    }
   ],
   "source": [
    "len(spotify_data[\"Artist\"])"
   ]
  },
  {
   "cell_type": "code",
   "execution_count": 7,
   "metadata": {},
   "outputs": [
    {
     "data": {
      "text/plain": [
       "3030"
      ]
     },
     "execution_count": 7,
     "metadata": {},
     "output_type": "execute_result"
    }
   ],
   "source": [
    "len(spotify_data[\"valence\"])\r\n",
    "#spotify_data = {\"Artist\": [], \"Track\": [], \"Spotify_ID\": [], \"danceability\": [], \"energy\": [], \"acousticness\": [], \"instrumentalness\": [], \r\n",
    "#                \"liveness\": [], \"valence\": [], \"tempo\": [], \"key\": [], \"loudness\": [], \"mode\": [], \"duration_ms\": [], \"time_signature\": []}"
   ]
  },
  {
   "cell_type": "code",
   "execution_count": 9,
   "metadata": {},
   "outputs": [],
   "source": [
    "spotify_data_df = pd.DataFrame(spotify_data)\r\n",
    "spotify_data_df.to_csv(\"Data/audio_features.csv\")"
   ]
  }
 ],
 "metadata": {
  "interpreter": {
   "hash": "ec74549fe6943598ad391168db2b79c223dd398876bde91387de495bd9ded36a"
  },
  "kernelspec": {
   "display_name": "Python 3.6.10 64-bit ('PythonData': conda)",
   "name": "python3"
  },
  "language_info": {
   "codemirror_mode": {
    "name": "ipython",
    "version": 3
   },
   "file_extension": ".py",
   "mimetype": "text/x-python",
   "name": "python",
   "nbconvert_exporter": "python",
   "pygments_lexer": "ipython3",
   "version": "3.6.10"
  },
  "orig_nbformat": 2
 },
 "nbformat": 4,
 "nbformat_minor": 2
}