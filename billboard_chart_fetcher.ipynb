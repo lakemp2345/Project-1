{
 "metadata": {
  "language_info": {
   "codemirror_mode": {
    "name": "ipython",
    "version": 3
   },
   "file_extension": ".py",
   "mimetype": "text/x-python",
   "name": "python",
   "nbconvert_exporter": "python",
   "pygments_lexer": "ipython3",
   "version": "3.6.10"
  },
  "orig_nbformat": 4,
  "kernelspec": {
   "name": "python3",
   "display_name": "Python 3.6.10 64-bit ('PythonData': conda)"
  },
  "interpreter": {
   "hash": "ec74549fe6943598ad391168db2b79c223dd398876bde91387de495bd9ded36a"
  }
 },
 "nbformat": 4,
 "nbformat_minor": 2,
 "cells": [
  {
   "cell_type": "code",
   "execution_count": 24,
   "metadata": {},
   "outputs": [],
   "source": [
    "# How to use access billboard charts:\n",
    "# https://github.com/guoguo12/billboard-charts\n",
    "# \"pip install billboard.py\"\n",
    "\n",
    "#dependencies\n",
    "import billboard\n",
    "import pandas as pd\n"
   ]
  },
  {
   "cell_type": "code",
   "execution_count": 62,
   "metadata": {},
   "outputs": [
    {
     "output_type": "stream",
     "name": "stdout",
     "text": [
      "4\n"
     ]
    }
   ],
   "source": [
    "#testing\n",
    "#putting a date beyond the current week throws an index error\n",
    "chart = billboard.ChartData('hot-100', date=\"2021-05-31\")\n",
    "chart.title\n",
    "song = chart[3]\n",
    "song.title\n",
    "print(song.rank)"
   ]
  },
  {
   "cell_type": "code",
   "execution_count": 31,
   "metadata": {},
   "outputs": [],
   "source": [
    "# PLAN:\n",
    "# billboard has weekly charts dated for saturdays. \n",
    "# loop through saturdays for the last 5 years (in YYYY-MM-DD format) and collect Hot 100 charts\n",
    "# save into pandas dataframe\n",
    "# export to csv\n",
    "# #\n"
   ]
  },
  {
   "cell_type": "code",
   "execution_count": 63,
   "metadata": {},
   "outputs": [],
   "source": [
    "#create saturday list\n",
    "saturdays = pd.date_range(start=str(2017), end=str(2018), freq='W-SAT').strftime('%Y-%m-%d').tolist()\n",
    "\n",
    "#test size\n",
    "#saturdays = [\"2021-06-12\", \"2021-06-05\"]"
   ]
  },
  {
   "cell_type": "code",
   "execution_count": 68,
   "metadata": {
    "tags": []
   },
   "outputs": [
    {
     "output_type": "stream",
     "name": "stdout",
     "text": [
      "exception thrown\nFINISHED\n"
     ]
    }
   ],
   "source": [
    "data = {\"Date\":[], \"Title\": [], \"Artist\":[], \"Rank\": [], \"IsNew\": []}\n",
    "for saturday in saturdays:\n",
    "    try:\n",
    "        chart = billboard.ChartData('hot-100', date=saturday)\n",
    "        date = chart.date\n",
    "        for song in chart:\n",
    "            data[\"Date\"].append(date)\n",
    "            data[\"Title\"].append(song.title)\n",
    "            data[\"Artist\"].append(song.artist)\n",
    "            data[\"Rank\"].append(song.rank)\n",
    "            data[\"IsNew\"].append(song.isNew)\n",
    "    except:\n",
    "        print(\"exception thrown\")\n",
    "        break\n",
    "print(\"FINISHED\")\n"
   ]
  },
  {
   "cell_type": "code",
   "execution_count": 70,
   "metadata": {},
   "outputs": [
    {
     "output_type": "execute_result",
     "data": {
      "text/plain": [
       "             Date              Title                           Artist  Rank  \\\n",
       "0      2016-01-02              Hello                            Adele     1   \n",
       "1      2016-01-02              Sorry                    Justin Bieber     2   \n",
       "2      2016-01-02      Hotline Bling                            Drake     3   \n",
       "3      2016-01-02      Love Yourself                    Justin Bieber     4   \n",
       "4      2016-01-02  What Do You Mean?                    Justin Bieber     5   \n",
       "...           ...                ...                              ...   ...   \n",
       "12495  2018-05-19               I Do            Cardi B Featuring SZA    96   \n",
       "12496  2018-05-19              Mercy                      Brett Young    97   \n",
       "12497  2018-05-19             Preach       YoungBoy Never Broke Again    98   \n",
       "12498  2018-05-19          Red Roses  Lil Skies Featuring Landon Cube    99   \n",
       "12499  2018-05-19            When We                             Tank   100   \n",
       "\n",
       "       IsNew  \n",
       "0      False  \n",
       "1      False  \n",
       "2      False  \n",
       "3      False  \n",
       "4      False  \n",
       "...      ...  \n",
       "12495  False  \n",
       "12496   True  \n",
       "12497   True  \n",
       "12498  False  \n",
       "12499  False  \n",
       "\n",
       "[12500 rows x 5 columns]"
      ],
      "text/html": "<div>\n<style scoped>\n    .dataframe tbody tr th:only-of-type {\n        vertical-align: middle;\n    }\n\n    .dataframe tbody tr th {\n        vertical-align: top;\n    }\n\n    .dataframe thead th {\n        text-align: right;\n    }\n</style>\n<table border=\"1\" class=\"dataframe\">\n  <thead>\n    <tr style=\"text-align: right;\">\n      <th></th>\n      <th>Date</th>\n      <th>Title</th>\n      <th>Artist</th>\n      <th>Rank</th>\n      <th>IsNew</th>\n    </tr>\n  </thead>\n  <tbody>\n    <tr>\n      <th>0</th>\n      <td>2016-01-02</td>\n      <td>Hello</td>\n      <td>Adele</td>\n      <td>1</td>\n      <td>False</td>\n    </tr>\n    <tr>\n      <th>1</th>\n      <td>2016-01-02</td>\n      <td>Sorry</td>\n      <td>Justin Bieber</td>\n      <td>2</td>\n      <td>False</td>\n    </tr>\n    <tr>\n      <th>2</th>\n      <td>2016-01-02</td>\n      <td>Hotline Bling</td>\n      <td>Drake</td>\n      <td>3</td>\n      <td>False</td>\n    </tr>\n    <tr>\n      <th>3</th>\n      <td>2016-01-02</td>\n      <td>Love Yourself</td>\n      <td>Justin Bieber</td>\n      <td>4</td>\n      <td>False</td>\n    </tr>\n    <tr>\n      <th>4</th>\n      <td>2016-01-02</td>\n      <td>What Do You Mean?</td>\n      <td>Justin Bieber</td>\n      <td>5</td>\n      <td>False</td>\n    </tr>\n    <tr>\n      <th>...</th>\n      <td>...</td>\n      <td>...</td>\n      <td>...</td>\n      <td>...</td>\n      <td>...</td>\n    </tr>\n    <tr>\n      <th>12495</th>\n      <td>2018-05-19</td>\n      <td>I Do</td>\n      <td>Cardi B Featuring SZA</td>\n      <td>96</td>\n      <td>False</td>\n    </tr>\n    <tr>\n      <th>12496</th>\n      <td>2018-05-19</td>\n      <td>Mercy</td>\n      <td>Brett Young</td>\n      <td>97</td>\n      <td>True</td>\n    </tr>\n    <tr>\n      <th>12497</th>\n      <td>2018-05-19</td>\n      <td>Preach</td>\n      <td>YoungBoy Never Broke Again</td>\n      <td>98</td>\n      <td>True</td>\n    </tr>\n    <tr>\n      <th>12498</th>\n      <td>2018-05-19</td>\n      <td>Red Roses</td>\n      <td>Lil Skies Featuring Landon Cube</td>\n      <td>99</td>\n      <td>False</td>\n    </tr>\n    <tr>\n      <th>12499</th>\n      <td>2018-05-19</td>\n      <td>When We</td>\n      <td>Tank</td>\n      <td>100</td>\n      <td>False</td>\n    </tr>\n  </tbody>\n</table>\n<p>12500 rows × 5 columns</p>\n</div>"
     },
     "metadata": {},
     "execution_count": 70
    }
   ],
   "source": [
    "#convert to dict of lists to dataframe\n",
    "hot_100_2017_df = pd.DataFrame(data)\n",
    "hot_100_2017_df"
   ]
  },
  {
   "cell_type": "code",
   "execution_count": 71,
   "metadata": {},
   "outputs": [],
   "source": [
    "#put it in a csv\n",
    "hot_100_2016_df.to_csv(\"Data/billboard_hot100_2017.csv\", index=False)"
   ]
  },
  {
   "cell_type": "code",
   "execution_count": null,
   "metadata": {},
   "outputs": [],
   "source": []
  }
 ]
}